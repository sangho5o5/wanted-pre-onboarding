{
  "nbformat": 4,
  "nbformat_minor": 0,
  "metadata": {
    "colab": {
      "name": "원티드사전과제.ipynb",
      "provenance": []
    },
    "kernelspec": {
      "name": "python3",
      "display_name": "Python 3"
    },
    "language_info": {
      "name": "python"
    }
  },
  "cells": [
    {
      "cell_type": "markdown",
      "source": [
        "# 문제 1"
      ],
      "metadata": {
        "id": "SD_yUVrcdFhj"
      }
    },
    {
      "cell_type": "code",
      "execution_count": 1,
      "metadata": {
        "id": "TsxS1iE8mSn0"
      },
      "outputs": [],
      "source": [
        "class Tokenizer():\n",
        "  def __init__(self):\n",
        "    self.word_dict = {'oov': 0}\n",
        "    self.fit_checker = False\n",
        "  \n",
        "  def preprocessing(self, sequences):\n",
        "    result = []\n",
        "    '''\n",
        "    문제 1-1.\n",
        "    '''\n",
        "    import re\n",
        "    for s in sequences:\n",
        "      s = s.lower().strip()                                                     # 소문자 변환과 양끝 공백제거\n",
        "      s = re.sub(r'[-=+,#/\\?:^$.@*\\\"※~&%ㆍ!』\\\\‘|\\(\\)\\[\\]\\<\\>`\\'…》]',' ', s)# 특수문자 제거, (')가 들어간 불용어는 따로 분리하기 위해 공백으로 교체\n",
        "      s = re.sub(r'[\" \"]+', \" \", s)                                             # 여러개의 공백은 한개의 공백으로, 특수문자가 공백으로 바뀌면서 생기는 2개이상 공백을 1개로 교체\n",
        "      s = s.split() \n",
        "      result.append(s)\n",
        "    return result\n",
        "  \n",
        "  def fit(self, sequences):\n",
        "    self.fit_checker = False\n",
        "    '''\n",
        "    문제 1-2.\n",
        "    '''\n",
        "    tokens = self.preprocessing(sequences)                                      # 토큰화 수행\n",
        "    for s in tokens:                                                            # 토큰내 문장\n",
        "      for w in s:                                                               # 문장내 단어\n",
        "        if w not in self.word_dict.keys():                                      # 단어사전에 없는 단어 일 경우\n",
        "          self.word_dict[w] = len(self.word_dict)                               # 단어사전에 추가\n",
        "    self.fit_checker = True\n",
        "  \n",
        "  def transform(self, sequences):\n",
        "    result = []\n",
        "    tokens = self.preprocessing(sequences)\n",
        "    if self.fit_checker:\n",
        "      '''\n",
        "      문제 1-3.\n",
        "      '''\n",
        "      for s in tokens:                                                          # 토큰내 문장\n",
        "        indexes = []                                                            # 문장별 인덱스 리스트\n",
        "        for w in s:                                                             # 문장내 단어\n",
        "          if w in self.word_dict.keys():                                        # 단어사전에 단어가 있으면\n",
        "            idx = self.word_dict[w]                                             # 해당 단어의 인덱스\n",
        "          else:                                                                 # 없으면\n",
        "            idx = self.word_dict['oov']                                         # oov의 인덱스\n",
        "          indexes.append(idx)                                                   # 문장별 인덱스 완성\n",
        "        result.append(indexes)\n",
        "      return result\n",
        "    else:\n",
        "      raise Exception(\"Tokenizer instance is not fitted yet.\")\n",
        "      \n",
        "  def fit_transform(self, sequences):\n",
        "    self.fit(sequences)\n",
        "    result = self.transform(sequences)\n",
        "    return result"
      ]
    },
    {
      "cell_type": "code",
      "source": [
        "# Tokenizer.preprocessing 테스트\n",
        "tokenizer = Tokenizer()\n",
        "sequence = [\"I'm going to school.\", 'I LIKE pizza! ']\n",
        "print(tokenizer.preprocessing(sequence))"
      ],
      "metadata": {
        "colab": {
          "base_uri": "https://localhost:8080/"
        },
        "id": "NzsG3OHWqaMC",
        "outputId": "f535e535-f235-40cd-b971-1723397c9f62"
      },
      "execution_count": 2,
      "outputs": [
        {
          "output_type": "stream",
          "name": "stdout",
          "text": [
            "[['i', 'm', 'going', 'to', 'school'], ['i', 'like', 'pizza']]\n"
          ]
        }
      ]
    },
    {
      "cell_type": "code",
      "source": [
        "# Tokenizer.fit 테스트\n",
        "tokenizer.fit(sequence)\n",
        "print(tokenizer.word_dict)"
      ],
      "metadata": {
        "id": "0vgLms2JqmSh",
        "colab": {
          "base_uri": "https://localhost:8080/"
        },
        "outputId": "ea0bff69-a3f0-48e2-97b3-06c201776716"
      },
      "execution_count": 3,
      "outputs": [
        {
          "output_type": "stream",
          "name": "stdout",
          "text": [
            "{'oov': 0, 'i': 1, 'm': 2, 'going': 3, 'to': 4, 'school': 5, 'like': 6, 'pizza': 7}\n"
          ]
        }
      ]
    },
    {
      "cell_type": "code",
      "source": [
        "# Tokenizer.transform 테스트\n",
        "print(tokenizer.transform(sequence))"
      ],
      "metadata": {
        "id": "5k63u-eQeZ0p",
        "colab": {
          "base_uri": "https://localhost:8080/"
        },
        "outputId": "3cd5fb4f-e74f-4f2b-bc15-02549bc3c23a"
      },
      "execution_count": 4,
      "outputs": [
        {
          "output_type": "stream",
          "name": "stdout",
          "text": [
            "[[1, 2, 3, 4, 5], [1, 6, 7]]\n"
          ]
        }
      ]
    },
    {
      "cell_type": "code",
      "source": [
        "# Tokenizer.fit_stransform 테스트\n",
        "print(tokenizer.fit_transform(sequence))"
      ],
      "metadata": {
        "colab": {
          "base_uri": "https://localhost:8080/"
        },
        "id": "ku-B_Z_4abH_",
        "outputId": "1cd5e6a3-bcfb-4ccd-fb8f-9bbc08b45d68"
      },
      "execution_count": 5,
      "outputs": [
        {
          "output_type": "stream",
          "name": "stdout",
          "text": [
            "[[1, 2, 3, 4, 5], [1, 6, 7]]\n"
          ]
        }
      ]
    },
    {
      "cell_type": "markdown",
      "source": [
        "# 문제 2"
      ],
      "metadata": {
        "id": "-8CfP1lrdKqR"
      }
    },
    {
      "cell_type": "code",
      "source": [
        "class TfidfVectorizer:\n",
        "  def __init__(self, tokenizer):\n",
        "    self.tokenizer = tokenizer\n",
        "    self.fit_checker = False\n",
        "  \n",
        "  def fit(self, sequences):\n",
        "    tokenized = self.tokenizer.fit_transform(sequences)\n",
        "    '''\n",
        "    문제 2-1.\n",
        "    '''\n",
        "    from math import log                                                        # log 계산을 위한 math 라이브러리\n",
        "\n",
        "    self.idf_matrix = []                                                        # idf matrix 생성\n",
        "    n = len(sequences)                                                          # 입력된 문장 갯수\n",
        "    word_dict = self.tokenizer.word_dict                                        # tokenizer가 생성한 단어사전\n",
        "    df_list = []                                                                # 계산할 df 리스트\n",
        "    \n",
        "    for id in list(word_dict.values())[1:]:                                     # 0번째 토큰을 제외한 1번토큰부터 시작\n",
        "      df = 0                                                                    # df값 초기화\n",
        "      for s in tokenized:                                                       # 토큰화된 문장들에서 1문장씩 불러옴\n",
        "        if id in s:                                                             # 토큰(단어)의 id 가 토큰화된 문장에 있다면\n",
        "          df += 1                                                               # df값 상승\n",
        "      idf = log(n/(1+df))                                                       # 주어진 공식으로 idf 계산\n",
        "      self.idf_matrix.append(idf)                                               # idf 매트릭스에 idf값 넣기\n",
        "\n",
        "    self.fit_checker = True\n",
        "    \n",
        "\n",
        "  def transform(self, sequences):\n",
        "    if self.fit_checker:\n",
        "      tokenized = self.tokenizer.transform(sequences)\n",
        "      '''\n",
        "      문제 2-2.\n",
        "      '''\n",
        "      vocab_id_list = list(self.tokenizer.word_dict.values())[1:]               # oov를 제외한 단어들의 value 값 리스트\n",
        "      self.tfidf_matrix = []                                                    # 전체 tfidf\n",
        "      for s in tokenized:\n",
        "        tf = 0\n",
        "        tfidf = 0\n",
        "        tfidf_s = []                                                            # 문장별 tfidf\n",
        "        for id in vocab_id_list:                                                 \n",
        "          tf = s.count(id)                                                      # tf 계산 \n",
        "          tfidf = tf * self.idf_matrix[id-1]                                    # tfidf 계산\n",
        "          tfidf_s.append(tfidf)                                                 # 문장별 tfidf에 추가\n",
        "        self.tfidf_matrix.append(tfidf_s)                                       # 전체 tfidf에 추가\n",
        "\n",
        "      return self.tfidf_matrix\n",
        "    else:\n",
        "      raise Exception(\"TfidfVectorizer instance is not fitted yet.\")\n",
        "\n",
        "  \n",
        "  def fit_transform(self, sequences):\n",
        "    self.fit(sequences)\n",
        "    return self.transform(sequences)"
      ],
      "metadata": {
        "id": "Sc2dZRyObXot"
      },
      "execution_count": 6,
      "outputs": []
    },
    {
      "cell_type": "code",
      "source": [
        "# TfidfVectorizer.fit 테스트\n",
        "tfidf = TfidfVectorizer(tokenizer)\n",
        "\n",
        "tfidf.fit(sequence)\n",
        "print(tfidf.idf_matrix)"
      ],
      "metadata": {
        "colab": {
          "base_uri": "https://localhost:8080/"
        },
        "id": "H4eHT3TAp7G_",
        "outputId": "e10d3bb6-b6e0-4aeb-870b-5a37b27f7fc2"
      },
      "execution_count": 7,
      "outputs": [
        {
          "output_type": "stream",
          "name": "stdout",
          "text": [
            "[-0.40546510810816444, 0.0, 0.0, 0.0, 0.0, 0.0, 0.0]\n"
          ]
        }
      ]
    },
    {
      "cell_type": "code",
      "source": [
        "# TfidfVectorizer.transform 테스트\n",
        "tfidf.transform(sequence)"
      ],
      "metadata": {
        "colab": {
          "base_uri": "https://localhost:8080/"
        },
        "id": "6xaljdjsqM0Y",
        "outputId": "a4ecfd15-c96f-47e7-f032-59b541ee5464"
      },
      "execution_count": 8,
      "outputs": [
        {
          "output_type": "execute_result",
          "data": {
            "text/plain": [
              "[[-0.40546510810816444, 0.0, 0.0, 0.0, 0.0, 0.0, 0.0],\n",
              " [-0.40546510810816444, 0.0, 0.0, 0.0, 0.0, 0.0, 0.0]]"
            ]
          },
          "metadata": {},
          "execution_count": 8
        }
      ]
    },
    {
      "cell_type": "code",
      "source": [
        "# TfidfVectorizer.fit_transform 테스트\n",
        "tfidf.fit_transform(sequence)"
      ],
      "metadata": {
        "colab": {
          "base_uri": "https://localhost:8080/"
        },
        "id": "XaFeEHQM82cX",
        "outputId": "e7710567-fd86-4859-8e05-d61705ae0f0b"
      },
      "execution_count": 9,
      "outputs": [
        {
          "output_type": "execute_result",
          "data": {
            "text/plain": [
              "[[-0.40546510810816444, 0.0, 0.0, 0.0, 0.0, 0.0, 0.0],\n",
              " [-0.40546510810816444, 0.0, 0.0, 0.0, 0.0, 0.0, 0.0]]"
            ]
          },
          "metadata": {},
          "execution_count": 9
        }
      ]
    },
    {
      "cell_type": "code",
      "source": [
        ""
      ],
      "metadata": {
        "id": "yQMsw977-yHp"
      },
      "execution_count": 9,
      "outputs": []
    }
  ]
}